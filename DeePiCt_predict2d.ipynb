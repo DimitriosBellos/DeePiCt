{
  "nbformat": 4,
  "nbformat_minor": 0,
  "metadata": {
    "colab": {
      "name": "DeePiCt_predict2d.ipynb",
      "provenance": [],
      "collapsed_sections": []
    },
    "kernelspec": {
      "name": "python3",
      "display_name": "Python 3"
    },
    "language_info": {
      "name": "python"
    },
    "accelerator": "GPU"
  },
  "cells": [
    {
      "cell_type": "markdown",
      "source": [
        "# DeePiCt 2D U-Net segmentation"
      ],
      "metadata": {
        "id": "HGpFYpzFkPYu"
      }
    },
    {
      "cell_type": "markdown",
      "source": [
        "This Colab notebook can be used to create predictions with already trained 2D models for cytosol and organelle prediction. The tomogram that you want to use for prediction should be available somewhere online, for example on Drive. The initial step of the spectrum matching filter is not included in the notebook, and you should execute it beforehand. For more details about the model, follow the instructions available on the [DeePiCt Github repository](https://github.com/ZauggGroup/DeePiCt/blob/main/README.md).  \n",
        "\n",
        "## Instructions: \n",
        "* This notebook includes 4 steps to segment the tomogram and optional step 5 for visualization of the result. \n",
        "* Make sure that the tomogram with applied filter is available on an online share, example Google Drive. \n",
        "* Run the cells in the order that they are displayed. To run a cell, you need to click the play button on the left corner of the cell. \n",
        "* Some cells contain parameters that need to be defined, so make sure you enter all the required information correctly before running the particular cell. You have to run the cell, so that the parameter value is saved. \n",
        "\n",
        "\n"
      ],
      "metadata": {
        "id": "8I92jcldkWal"
      }
    },
    {
      "cell_type": "markdown",
      "source": [
        "# Configurations\n",
        "___\n",
        "\n",
        "### Make sure you have GPU access enabled by going to Runtime -> Change Runtime Type -> Hardware accelerator and selecting GPU"
      ],
      "metadata": {
        "id": "V43eKWTf5nyT"
      }
    },
    {
      "cell_type": "markdown",
      "source": [
        "## Step 1. Installations"
      ],
      "metadata": {
        "id": "tdw2Ce_FkZkC"
      }
    },
    {
      "cell_type": "code",
      "source": [
        "#@markdown ## 1.1. Run this cell to connect your Google Drive to colab\n",
        "\n",
        "#@markdown * Click on the URL. \n",
        "\n",
        "#@markdown * Sign in your Google Account. \n",
        "\n",
        "#@markdown You will either have to:\n",
        "#@markdown * copy the authorisation code and enter it into box below OR\n",
        "\n",
        "#@markdown * in the new google colab, you can just click \"Allow\" and it should connect.\n",
        "\n",
        "#@markdown * Click on \"Folder\" icon on the Left, press the refresh button. Your Google Drive folder should now be available here as \"gdrive\". \n",
        "\n",
        "# mount user's Google Drive to Google Colab.\n",
        "from google.colab import drive\n",
        "drive.mount('/content/gdrive')"
      ],
      "metadata": {
        "cellView": "form",
        "id": "3u5fxOdg53-f"
      },
      "execution_count": null,
      "outputs": []
    },
    {
      "cell_type": "code",
      "source": [
        "#@markdown ## 1.2. Run this cell to install necessary packages\n",
        "\n",
        "#@markdown The code in this cell: \n",
        "#@markdown * Gets the git repository of DeePiCt\n",
        "\n",
        "!git clone https://github.com/ZauggGroup/DeePiCt.git\n",
        "\n",
        "#@markdown * Installs required packages\n",
        "\n",
        "!pip install mrcfile\n",
        "!pip install h5py==2.10.0\n",
        "!pip install tensorflow-gpu==2.0.0\n",
        "!pip install keras==2.3.1"
      ],
      "metadata": {
        "cellView": "form",
        "id": "P09xc5sL59jx"
      },
      "execution_count": null,
      "outputs": []
    },
    {
      "cell_type": "markdown",
      "source": [
        "## Step 2. Set the data variables and config file\n",
        "\n",
        "___"
      ],
      "metadata": {
        "id": "IRfQzm0nI8J0"
      }
    },
    {
      "cell_type": "code",
      "source": [
        "#@markdown ## 2.1. Choose the model based on what you want to segment. The available models are prediction for cytosol and organelle. \n",
        "\n",
        "# Define the variable:\n",
        "predict_type = \"cytosol\" #@param [\"cytosol\",\"organelles\"]\n",
        "\n",
        "models_weights = {\"cytosol\": \"https://www.dropbox.com/sh/oavbtcvusi07xbh/AAAI0DrqdCOVKeCLjf0EcdBva/2d_cnn/vpp_model_cytosol_eq.h5?dl=0\",\n",
        "                  \"organelles\": \"https://www.dropbox.com/sh/oavbtcvusi07xbh/AAA2DxQVSKqIygfHa51mdM30a/2d_cnn/vpp_model_organelles_eq.h5?dl=0\"}\n",
        "\n",
        "\n",
        "!wget -O model_weights.h5 {models_weights[predict_type]}"
      ],
      "metadata": {
        "cellView": "form",
        "id": "00vCNedq6fCz"
      },
      "execution_count": null,
      "outputs": []
    },
    {
      "cell_type": "code",
      "source": [
        "from posixpath import split\n",
        "#@markdown ## 2.2. Define important variables\n",
        "\n",
        "#@markdown ### Define the following information in the given variables:\n",
        "\n",
        "srcdir = '/content/DeePiCt/2d_cnn'\n",
        "original_config_file = '/content/DeePiCt/2d_cnn/config.yaml'\n",
        "model_path = '/content/model_weights.h5'\n",
        "\n",
        "# Define the folowing variables:\n",
        "\n",
        "# @markdown * **ID/name for the tomogram**:\n",
        "tomo_name = '180426_005' #@param {type:\"string\"}\n",
        "\n",
        "# @markdown * **Path to the tomogram .mrc file**:\n",
        "tomogram_path = '/content/gdrive/MyDrive/tomo_data/match_spectrum_filt.mrc' #@param {type:\"string\"}\n",
        "\n",
        "# @markdown * **Use n/2 slices above and below z center. If 0, select all labeled slices**:\n",
        "z_cutoff = 0  #@param {type:\"integer\"}\n",
        "\n",
        "# @markdown * **Path where to save the config .yaml file (you can leave the default option)**:\n",
        "user_config_file = '/content/gdrive/MyDrive/DeePiCt_2d/config.yaml'  #@param {type:\"string\"}\n",
        "\n",
        "# @markdown * **Path where to save the data .csv file (you can leave the default option)**:\n",
        "user_data_file = '/content/gdrive/MyDrive/DeePiCt_2d/data.csv' #@param {type:\"string\"}\n",
        "\n",
        "# @markdown * **Path to folder where to save prediction files (you can leave the default option)**:\n",
        "user_prediction_folder = '/content/gdrive/MyDrive/DeePiCt_2d/predictions/'  #@param {type:\"string\"}\n",
        "\n",
        "\n",
        "import os\n",
        "\n",
        "os.makedirs(os.path.split(user_config_file)[0], exist_ok=True)\n",
        "os.makedirs(os.path.split(user_data_file)[0], exist_ok=True)\n",
        "os.makedirs(os.path.split(user_prediction_folder)[0], exist_ok=True)\n",
        "\n",
        "if z_cutoff == 0:\n",
        "    z_cutoff = None\n"
      ],
      "metadata": {
        "cellView": "form",
        "id": "Lc39KeYW6_8E"
      },
      "execution_count": 46,
      "outputs": []
    },
    {
      "cell_type": "code",
      "source": [
        "#@markdown ## 2.3. Create data csv file and yaml config file\n",
        "#@markdown Run this cell to create the .csv data file and .yaml config file\n",
        "\n",
        "import csv\n",
        "import yaml\n",
        "\n",
        "header = ['tomo_name','id','data','filtered_data']\n",
        "\n",
        "# Define the elements of this list:\n",
        "data = [tomo_name, tomo_name,'', tomogram_path]\n",
        "\n",
        "with open(user_data_file, 'w', encoding='UTF8') as f:\n",
        "    writer = csv.writer(f)\n",
        "\n",
        "    # write the header\n",
        "    writer.writerow(header)\n",
        "\n",
        "    # write the data\n",
        "    writer.writerow(data)\n",
        "  \n",
        "data_dictionary = dict(zip(header, data))\n",
        "\n",
        "def read_yaml(file_path):\n",
        "    with open(file_path, \"r\") as stream:\n",
        "        data = yaml.safe_load(stream)\n",
        "    return data\n",
        "\n",
        "def save_yaml(data, file_path):\n",
        "    with open(file_path, 'w') as yaml_file:\n",
        "        yaml.dump(data, yaml_file, default_flow_style=False)\n",
        "\n",
        "d = read_yaml(original_config_file)\n",
        "d['prediction_data'] = user_data_file\n",
        "d['output_dir'] = user_prediction_folder\n",
        "\n",
        "d['preprocessing']['filtering']['active'] = False\n",
        "d['preprocessing']['filtering']['target_spectrum'] = ''\n",
        "d['preprocessing']['filtering']['lowpass_cutoff'] = 350\n",
        "d['preprocessing']['filtering']['smoothen_cutoff'] = 20\n",
        "d['preprocessing']['slicing']['z_cutoff'] = z_cutoff\n",
        "\n",
        "d['training']['evaluation']['active'] = False\n",
        "d['training']['production']['active'] = False\n",
        "\n",
        "d['prediction']['active'] = True\n",
        "d['prediction']['model'] = model_path\n",
        "\n",
        "\n",
        "save_yaml(d, user_config_file)"
      ],
      "metadata": {
        "cellView": "form",
        "id": "Pot5ysCX8E-y"
      },
      "execution_count": 47,
      "outputs": []
    },
    {
      "cell_type": "markdown",
      "source": [
        "## Step 3. Predict with trained neural network\n",
        "\n",
        "___"
      ],
      "metadata": {
        "id": "EB2_x_IZLJH2"
      }
    },
    {
      "cell_type": "code",
      "source": [
        "#@markdown ## 3.1. Segment the tomogram\n",
        "#@markdown Run this cell to create the segmentation\n",
        "\n",
        "import os\n",
        "\n",
        "prediction = os.path.join(user_prediction_folder, data_dictionary['id'] + \"_pred.mrc\")\n",
        "\n",
        "!python /content/DeePiCt/2d_cnn/scripts/predict_organelles.py \\\n",
        "        --features {data_dictionary['filtered_data']} \\\n",
        "        --output {prediction} \\\n",
        "        --model {model_path} \\\n",
        "        --config {user_config_file}"
      ],
      "metadata": {
        "cellView": "form",
        "id": "0D_Xm3Wd8jsq"
      },
      "execution_count": null,
      "outputs": []
    },
    {
      "cell_type": "markdown",
      "source": [
        "## Step 4. Post-processing of the prediction\n",
        "\n",
        "___\n"
      ],
      "metadata": {
        "id": "IzVFl3iCLNdf"
      }
    },
    {
      "cell_type": "code",
      "source": [
        "#@markdown ## 4.1. Post-processing of the prediction\n",
        "#@markdown Run this cell to do post-processing of the prediction\n",
        "\n",
        "import os\n",
        "\n",
        "post_processed_prediction = os.path.join(user_prediction_folder, data_dictionary['id'] + \"_post_processed_pred.mrc\")\n",
        "\n",
        "\n",
        "!python3 /content/DeePiCt/2d_cnn/scripts/postprocess.py \\\n",
        "        --input {prediction} \\\n",
        "        --output {post_processed_prediction} \\\n",
        "        --config {user_config_file}"
      ],
      "metadata": {
        "id": "6-5o64TXbOSF",
        "cellView": "form"
      },
      "execution_count": null,
      "outputs": []
    },
    {
      "cell_type": "markdown",
      "source": [
        "# Step 5. Visualize results\n",
        "\n",
        "___"
      ],
      "metadata": {
        "id": "ap6yCAuLLS0H"
      }
    },
    {
      "cell_type": "code",
      "source": [
        "#@markdown ## 5.1. Read the tomogram and the prediction\n",
        "#@markdown Run this cell to read the tomogram and the predictions\n",
        "\n",
        "import mrcfile\n",
        "\n",
        "\n",
        "def read_tomogram(filename):\n",
        "    with mrcfile.open(filename, permissive=True) as m:\n",
        "        return m.data\n",
        "\n",
        "tomogram = read_tomogram(data_dictionary['filtered_data'])\n",
        "predictions = read_tomogram(post_processed_prediction)"
      ],
      "metadata": {
        "id": "SzWMXgLWLVth",
        "cellView": "form"
      },
      "execution_count": null,
      "outputs": []
    },
    {
      "cell_type": "code",
      "source": [
        "#@markdown ## 5.2. Visualize the prediction\n",
        "#@markdown Run this cell to do visualization of particular z axis\n",
        "\n",
        "\n",
        "z_axis = 100 #@param {type:\"integer\"}\n",
        "\n",
        "import numpy as np\n",
        "import matplotlib.pyplot as plt\n",
        "\n",
        "# First figure\n",
        "plt.figure(figsize = (10,10))\n",
        "plt.imshow(tomogram[z_axis], cmap='gray')\n",
        "\n",
        "# Second figure\n",
        "plt.figure(figsize = (10,10))\n",
        "plt.imshow(tomogram[z_axis], cmap='gray')\n",
        "alphas = np.zeros(predictions.shape)\n",
        "alphas[predictions > 0] = 0.8\n",
        "plt.imshow(predictions[z_axis], alpha=alphas[z_axis], cmap='Blues')"
      ],
      "metadata": {
        "id": "oH7tJ3TWjX4Z",
        "cellView": "form"
      },
      "execution_count": null,
      "outputs": []
    }
  ]
}